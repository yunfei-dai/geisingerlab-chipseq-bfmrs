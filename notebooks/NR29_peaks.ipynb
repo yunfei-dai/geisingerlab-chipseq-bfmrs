{
 "cells": [
  {
   "attachments": {},
   "cell_type": "markdown",
   "metadata": {},
   "source": [
    "# Repeat MEME Motif analysis for NR29 samples"
   ]
  },
  {
   "cell_type": "code",
   "execution_count": null,
   "metadata": {},
   "outputs": [],
   "source": [
    "import os\n",
    "import sys\n",
    "import re\n",
    "import pandas as pd\n",
    "from Bio import SeqIO\n",
    "\n",
    "print(sys.version)"
   ]
  },
  {
   "attachments": {},
   "cell_type": "markdown",
   "metadata": {},
   "source": [
    "# Plot distribution of intergenic vs coding peaks"
   ]
  },
  {
   "cell_type": "code",
   "execution_count": null,
   "metadata": {},
   "outputs": [],
   "source": [
    "seq_length = 500\n",
    "INFILE = \"/Users/yunfei/2023_ChipSeq/NRA29/RNAseq_Chipseq_sorted/BfmR-ChIP-29_seed1.master_table.sorted.tsv\"\n",
    "df_peak = pd.read_csv(INFILE, sep='\\t')\n",
    "df_peak = df_peak[['chrom', 'summit_pos', 'general call']]\n",
    "df_peak['seq_start'] = df_peak['summit_pos'] - (seq_length // 2)\n",
    "df_peak['seq_end'] = df_peak['summit_pos'] + (seq_length // 2)\n",
    "\n",
    "df_peak_activated = df_peak_all[df_peak['general call'] == 'activated']\n",
    "df_peak_activated = df_peak_activated[['chrom', 'seq_start', 'seq_end']]\n",
    "df_peak_repressed = df_peak_all[df_peak['general call'] == 'repressed']\n",
    "df_peak_repressed = df_peak_repressed[['chrom', 'seq_start', 'seq_end']]\n",
    "\n",
    "OUTDIR = \"/Users/yunfei/2023_ChipSeq/MEME_analysis_NRA29_seed1/bed_file_for_MEME_500\"\n",
    "df_peak_activated.to_csv(os.path.join(OUTDIR, \"BfmR-ChIP-49_seed1_activated_peak.bed\"), sep='\\t', header=False, index=False, mode='w')\n",
    "df_peak_repressed.to_csv(os.path.join(OUTDIR, \"BfmR-ChIP-49_seed1_repressed_peak.bed\"), sep='\\t', header=False, index=False, mode='w')"
   ]
  },
  {
   "attachments": {},
   "cell_type": "markdown",
   "metadata": {},
   "source": [
    "## Generate fasta file from bed files"
   ]
  },
  {
   "cell_type": "code",
   "execution_count": null,
   "metadata": {},
   "outputs": [],
   "source": [
    "INDIR = \"/Users/yunfei/2023_ChipSeq/MEME_analysis_NRA29_seed1/bed_file_for_MEME_500\"\n",
    "FASTA = \"/Users/yunfei/2023_ChipSeq/references/Ab_all.fasta\"\n",
    "for file in os.listdir(INDIR):\n",
    "    if re.match('.+bed$', file):\n",
    "        infile = os.path.join(INDIR, file)\n",
    "        outfile = os.path.join(INDIR, file.split('.')[0]+'.fa')\n",
    "        cmd = \" \".join(['bedtools getfasta', '-fi', FASTA, '-bed', infile, '>', outfile])\n",
    "        print(\"FASTA output: \" + outfile)\n",
    "        os.system(cmd)"
   ]
  },
  {
   "attachments": {},
   "cell_type": "markdown",
   "metadata": {},
   "source": [
    "## Run MEME"
   ]
  },
  {
   "cell_type": "code",
   "execution_count": null,
   "metadata": {},
   "outputs": [],
   "source": [
    "INDIR = \"/Users/yunfei/2023_ChipSeq/MEME_analysis_NRA29_seed1/bed_file_for_MEME_500\"\n",
    "OUTDIR = \"/Users/yunfei/2023_ChipSeq/MEME_analysis_NRA29_seed1/MEME-Chip_output\"\n",
    "DB = \"/Users/yunfei/meme/motif_databases/PROKARYOTE/collectf.meme\"\n",
    "LOG = os.path.join(OUTDIR, 'meme-chip_log.txt')\n",
    "\n",
    "os.makedirs(os.path.join(OUTDIR, 'fimo_output'), exist_ok=True)\n",
    "os.makedirs(os.path.join(OUTDIR, 'html_output'), exist_ok=True)\n",
    "for file in os.listdir(INDIR):\n",
    "    if re.match('.+fa$', file):\n",
    "        infile = os.path.join(INDIR, file)\n",
    "        prefix = os.path.join(OUTDIR, file.split('.')[0])\n",
    "        cmd = ' '.join(['meme-chip -meme-p 4', '-o', prefix, '-db', DB, infile, \">>\", LOG, \"2>&1\"])\n",
    "        print(cmd)\n",
    "        os.system(cmd)"
   ]
  }
 ],
 "metadata": {
  "kernelspec": {
   "display_name": "ChipSeq",
   "language": "python",
   "name": "python3"
  },
  "language_info": {
   "name": "python",
   "version": "3.11.3"
  },
  "orig_nbformat": 4
 },
 "nbformat": 4,
 "nbformat_minor": 2
}
