{
 "cells": [
  {
   "attachments": {},
   "cell_type": "markdown",
   "metadata": {},
   "source": [
    "# Idenfication of nearest ORFs"
   ]
  },
  {
   "cell_type": "code",
   "execution_count": 22,
   "metadata": {},
   "outputs": [
    {
     "name": "stdout",
     "output_type": "stream",
     "text": [
      "3.11.3 (main, May 15 2023, 10:43:03) [Clang 14.0.6 ]\n"
     ]
    }
   ],
   "source": [
    "import os\n",
    "import sys\n",
    "import pandas as pd\n",
    "print(sys.version)"
   ]
  },
  {
   "cell_type": "markdown",
   "metadata": {},
   "source": [
    "# Identify additional ORFs adjacent to the nearest ORF for each peak\n",
    "### The search is limited to 1000 bp each direction of the peak "
   ]
  },
  {
   "cell_type": "code",
   "execution_count": 15,
   "metadata": {},
   "outputs": [],
   "source": [
    "py_script = \"~/GitProjects/geisingerlab/geisingerlab-chipseq-bfmrs/src/nearest_ORF_additional.py\"\n",
    "infile = \"~/2023_ChipSeq/average_peak_summit/BfmR-ChIP-49_seed1.average_summit.bed\"\n",
    "outfile = \"~/2023_ChipSeq/peak_stat_next_ORFs/BfmR-ChIP-49_seed1.nextORFs.tsv\"\n",
    "annotations = \"~/2023_ChipSeq/annotations\""
   ]
  },
  {
   "cell_type": "code",
   "execution_count": 16,
   "metadata": {
    "vscode": {
     "languageId": "shellscript"
    }
   },
   "outputs": [
    {
     "data": {
      "text/plain": [
       "0"
      ]
     },
     "execution_count": 16,
     "metadata": {},
     "output_type": "execute_result"
    }
   ],
   "source": [
    "cmd = ' '.join(['python', py_script, infile, outfile, annotations])\n",
    "os.system(cmd)"
   ]
  },
  {
   "cell_type": "code",
   "execution_count": 17,
   "metadata": {
    "vscode": {
     "languageId": "shellscript"
    }
   },
   "outputs": [
    {
     "name": "stdout",
     "output_type": "stream",
     "text": [
      "     332 /Users/yunfei/2023_ChipSeq/peak_stat_next_ORFs/BfmR-ChIP-49_seed1.nextORFs.tsv\n"
     ]
    }
   ],
   "source": [
    "!wc -l $outfile"
   ]
  },
  {
   "cell_type": "markdown",
   "metadata": {},
   "source": [
    "# Filter matched ORFs by activated / repressed call from RNAseq table"
   ]
  },
  {
   "cell_type": "code",
   "execution_count": 20,
   "metadata": {},
   "outputs": [],
   "source": [
    "rnaseq_bfmRS = \"~/2023_ChipSeq/rnaseq/bfmRS_WT.xlsx\"\n",
    "rnaseq_bfmR = \"~/2023_ChipSeq/rnaseq/bfmR_WT.xlsx\"\n",
    "rnaseq_bfmS = \"~/2023_ChipSeq/rnaseq/bfmS_WT.xlsx\"\n",
    "\n",
    "ORF_table = \"~/2023_ChipSeq/peak_stat_next_ORFs/BfmR-ChIP-49_seed1.nextORFs.tsv\"\n",
    "ORF_RNAseq = \"~/2023_ChipSeq/peak_stat_next_ORFs/BfmR-ChIP-49_seed1.nextORFs.RNASeq.tsv\"\n"
   ]
  },
  {
   "cell_type": "code",
   "execution_count": 21,
   "metadata": {},
   "outputs": [],
   "source": [
    "def read_rnaseq_table(file):\n",
    "    df = pd.read_excel(file)\n",
    "    df = df.set_index(\"gene_id\")\n",
    "    return df"
   ]
  },
  {
   "cell_type": "code",
   "execution_count": null,
   "metadata": {},
   "outputs": [],
   "source": [
    "rnaseq_table = {}\n",
    "rnaseq_table.update({\"BfmRS_WT\" : read_rnaseq_table(rnaseq_bfmRS)})\n",
    "rnaseq_table.update({\"BfmR_WT\" : read_rnaseq_table(rnaseq_bfmR)})\n",
    "rnaseq_table.update({\"BfmS_WT\" : read_rnaseq_table(rnaseq_bfmS)})\n",
    "\n",
    "df_chipseq = pd.read_csv(ORF_table, sep='\\t', index_col=0)\n",
    "df_chipseq = df_chipseq.set_index(\"locus_tag\")\n",
    "\n",
    "col_names = [\"log2(fold_change)\", \"significant\", \"protein_id\", \"product\"]\n",
    "\n",
    "for i,j in rnaseq_table.items():\n",
    "    df_rnaseq = j\n",
    "    for row, column in df_chipseq.iterrows():\n",
    "        for k in col_names:\n",
    "            new_column_name = i + \"_\" + k\n",
    "            try:\n",
    "                df_chipseq.loc[row, new_column_name] = df_rnaseq.loc[row,k]\n",
    "            except:\n",
    "                pass\n",
    "df_chipseq.to_csv(ORF_RNAseq, sep='\\t')"
   ]
  }
 ],
 "metadata": {
  "kernelspec": {
   "display_name": "ChipSeq",
   "language": "python",
   "name": "python3"
  },
  "language_info": {
   "codemirror_mode": {
    "name": "ipython",
    "version": 3
   },
   "file_extension": ".py",
   "mimetype": "text/x-python",
   "name": "python",
   "nbconvert_exporter": "python",
   "pygments_lexer": "ipython3",
   "version": "3.11.3"
  },
  "orig_nbformat": 4,
  "vscode": {
   "interpreter": {
    "hash": "35a9f95914f2680dee04c3a1a463681c430a81c4ef522c8d9df549995360d406"
   }
  }
 },
 "nbformat": 4,
 "nbformat_minor": 2
}
