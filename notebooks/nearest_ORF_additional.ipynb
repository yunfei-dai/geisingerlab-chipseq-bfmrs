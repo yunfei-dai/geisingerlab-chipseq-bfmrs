{
 "cells": [
  {
   "attachments": {},
   "cell_type": "markdown",
   "metadata": {},
   "source": [
    "# Idenfication of nearest ORFs"
   ]
  },
  {
   "cell_type": "code",
   "execution_count": 6,
   "metadata": {},
   "outputs": [
    {
     "name": "stdout",
     "output_type": "stream",
     "text": [
      "3.11.3 (main, May 15 2023, 10:43:03) [Clang 14.0.6 ]\n"
     ]
    }
   ],
   "source": [
    "import os\n",
    "import sys\n",
    "print(sys.version)"
   ]
  },
  {
   "cell_type": "markdown",
   "metadata": {},
   "source": [
    "# Identify additional ORFs adjacent to the nearest ORF for each peak\n",
    "### The search is limited to 1000 bp each direction of the peak "
   ]
  },
  {
   "cell_type": "code",
   "execution_count": 7,
   "metadata": {},
   "outputs": [],
   "source": [
    "py_script = \"~/GitProjects/geisingerlab/geisingerlab-chipseq-bfmrs/src/nearest_ORF_additional.py\"\n",
    "infile = \"~/2023_ChipSeq/average_peak_summit/BfmR-ChIP-49_seed1.average_summit.bed\"\n",
    "outfile = \"~/2023_ChipSeq/peak_stat_next_ORFs/BfmR-ChIP-49_seed1.nextORFs.tsv\"\n",
    "annotations = \"~/2023_ChipSeq/annotations\""
   ]
  },
  {
   "cell_type": "code",
   "execution_count": 12,
   "metadata": {
    "vscode": {
     "languageId": "shellscript"
    }
   },
   "outputs": [
    {
     "data": {
      "text/plain": [
       "0"
      ]
     },
     "execution_count": 12,
     "metadata": {},
     "output_type": "execute_result"
    }
   ],
   "source": [
    "cmd = ' '.join(['python', py_script, infile, outfile, annotations])\n",
    "os.system(cmd)"
   ]
  },
  {
   "cell_type": "code",
   "execution_count": 14,
   "metadata": {
    "vscode": {
     "languageId": "shellscript"
    }
   },
   "outputs": [
    {
     "name": "stdout",
     "output_type": "stream",
     "text": [
      "     332 /Users/yunfei/2023_ChipSeq/peak_stat_next_ORFs/BfmR-ChIP-49_seed1.nextORFs.tsv\n"
     ]
    }
   ],
   "source": [
    "!wc -l $outfile"
   ]
  },
  {
   "cell_type": "markdown",
   "metadata": {},
   "source": [
    "# Filter matched ORFs by activated / repressed call from RNAseq table"
   ]
  },
  {
   "cell_type": "code",
   "execution_count": 13,
   "metadata": {
    "vscode": {
     "languageId": "shellscript"
    }
   },
   "outputs": [
    {
     "name": "stdout",
     "output_type": "stream",
     "text": [
      "summit_pos\tNth nearest ORF\tlocus_tag\tchrom\tstart\tend\tstrand\tdistance_to_match\tintergenic_distance\tmatch_type\taverage_fold_enrichment\n",
      "3649\t0\tACX60_RS00020\tNZ_CP012004.1\t3882\t6351\t1\t-233\t0\tcoding\t2.95\n",
      "7132\t0\tA1S_3475\tNC_009084.1\t6196\t8608\t1\t936\t0\tcoding\t1.49\n",
      "11064\t0\tACX60_RS18245\tNZ_CP012005.1\t10999\t10429\t-1\t-65\t0\tintergenic\t4.16\n",
      "11064\t1\tACX60_RS18240\tNZ_CP012005.1\t10427\t9890\t-1\t-637\t572\tintergenic\t4.16\n",
      "11305\t0\tA1S_3469\tNC_009083.1\t10723\t10366\t-1\t-582\t0\tintergenic\t2.02\n",
      "11305\t1\tA1S_3468\tNC_009083.1\t10374\t10071\t-1\t-931\t349\tintergenic\t2.02\n",
      "14476\t0\tACX60_RS18255\tNZ_CP012005.1\t14398\t14038\t-1\t-78\t0\tintergenic\t3.19\n",
      "43232\t0\tACX60_RS00175\tNZ_CP012004.1\t44855\t45233\t1\t-1623\t0\tcoding\t2.19\n",
      "47608\t0\tACX60_RS00195\tNZ_CP012004.1\t47969\t48623\t1\t-361\t0\tcoding\t2.08\n"
     ]
    }
   ],
   "source": [
    "py_cross_reference = \"~/GitProjects/geisingerlab/geisingerlab-chipseq-bfmrs/src/combine_chipseq_rnaseq_tables.py\""
   ]
  }
 ],
 "metadata": {
  "kernelspec": {
   "display_name": "ChipSeq",
   "language": "python",
   "name": "python3"
  },
  "language_info": {
   "codemirror_mode": {
    "name": "ipython",
    "version": 3
   },
   "file_extension": ".py",
   "mimetype": "text/x-python",
   "name": "python",
   "nbconvert_exporter": "python",
   "pygments_lexer": "ipython3",
   "version": "3.11.3"
  },
  "orig_nbformat": 4,
  "vscode": {
   "interpreter": {
    "hash": "35a9f95914f2680dee04c3a1a463681c430a81c4ef522c8d9df549995360d406"
   }
  }
 },
 "nbformat": 4,
 "nbformat_minor": 2
}
